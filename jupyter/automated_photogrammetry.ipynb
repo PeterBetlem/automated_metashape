{
 "cells": [
  {
   "cell_type": "code",
   "execution_count": 1,
   "metadata": {},
   "outputs": [],
   "source": [
    "from automated_metashape.MetashapeProcessing import AutomatedProcessing as AP\n"
   ]
  },
  {
   "cell_type": "code",
   "execution_count": null,
   "metadata": {},
   "outputs": [
    {
     "name": "stderr",
     "output_type": "stream",
     "text": [
      "2020-12-07 17:15:16,536 [INFO] automated_metashape.MetashapeProcessing: --------------\n",
      "2020-12-07 17:15:16,537 [INFO] automated_metashape.MetashapeProcessing: Continued run initiated.\n",
      "2020-12-07 17:15:16,538 [INFO] automated_metashape.MetashapeProcessing: Runtime id: KonusdalenWestFault_20201207T1715\n",
      "2020-12-07 17:15:16,539 [INFO] automated_metashape.MetashapeProcessing: --------------\n",
      "2020-12-07 17:15:16,539 [INFO] automated_metashape.MetashapeProcessing: Agisoft Metashape Professional Version: 1.6.5.\n",
      "2020-12-07 17:15:16,540 [INFO] automated_metashape.MetashapeProcessing: automated_metashape package version: 0.0.1.dev38.\n",
      "\n",
      "2020-12-07 17:15:16,744 [INFO] automated_metashape.MetashapeProcessing: Loaded existing project D:\\Metashape\\Deltaneset\\metashape\\KonusdalenWestFault_20201120T1326.psx\n"
     ]
    }
   ],
   "source": [
    "config_file = \"../config/close-range_photogrammetry.yml\"\n",
    "AP(config_file)"
   ]
  }
 ],
 "metadata": {
  "kernelspec": {
   "display_name": "Python 3",
   "language": "python",
   "name": "python3"
  },
  "language_info": {
   "codemirror_mode": {
    "name": "ipython",
    "version": 3
   },
   "file_extension": ".py",
   "mimetype": "text/x-python",
   "name": "python",
   "nbconvert_exporter": "python",
   "pygments_lexer": "ipython3",
   "version": "3.7.9"
  }
 },
 "nbformat": 4,
 "nbformat_minor": 4
}

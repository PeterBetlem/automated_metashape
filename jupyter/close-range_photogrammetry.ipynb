{
 "cells": [
  {
   "cell_type": "markdown",
   "metadata": {},
   "source": [
    "# Automated (close-range) photogrammetry workflow\n",
    "The following workflow consists of the following steps:\n",
    "- Identify markers (if present) on the images, and store pixel and real world coordinates in the correct folder\n",
    "- Extract the object; this requires the very first image to be of the \"empty\" lightbox\n",
    "- Run the full metashape workflow, and generate a textured mesh."
   ]
  },
  {
   "cell_type": "code",
   "execution_count": 1,
   "metadata": {},
   "outputs": [
    {
     "name": "stdout",
     "output_type": "stream",
     "text": [
      "Implementing real world positions from 2D template file.\n",
      "Exported real world marker coordinates to \\\\gis\\Processing\\AnnaSartell\\EK05\\gcps\\prepared folder.\n",
      "Accessing and analysing photos @ \\\\gis\\Processing\\AnnaSartell\\EK05\n",
      "Found 100 images for processing.\n",
      "Starting multiprocessing...\n",
      "Finalised multiprocessing...\n",
      "Exported pixel coordinates to \\\\gis\\Processing\\AnnaSartell\\EK05\\gcps\\prepared folder.\n"
     ]
    }
   ],
   "source": [
    "%run ../python/identify_markers.py \"../config/close-range_photogrammetry-EK05.yml\""
   ]
  },
  {
   "cell_type": "code",
   "execution_count": 2,
   "metadata": {},
   "outputs": [],
   "source": [
    "#%run ../python/background_removal.py \"../config/close-range_photogrammetry-EK02.yml\""
   ]
  },
  {
   "cell_type": "code",
   "execution_count": 1,
   "metadata": {},
   "outputs": [
    {
     "name": "stderr",
     "output_type": "stream",
     "text": [
      "2020-09-21 18:03:28,927 [INFO] __main__: Initiated logging for Project: EK06_20200921T1803.\n",
      "2020-09-21 18:03:28,931 [INFO] __main__: Agisoft Metashape Professional Version: 1.6.4.\n",
      "2020-09-21 18:03:28,932 [INFO] __main__: \n",
      "2020-09-21 18:03:28,934 [INFO] __main__: Creating new project \n",
      "2020-09-21 18:03:29,340 [INFO] __main__: Saved project as \\\\gis\\Processing\\Anna\\EK06\\metashape\\EK06_20200921T1803.psx\n",
      "2020-09-21 18:03:29,345 [INFO] __main__: Connected to network @ gis running Metashape version 1.6.4.10928.\n",
      "2020-09-21 18:03:29,347 [INFO] __main__: Network mode activated.\n",
      "2020-09-21 18:03:29,348 [INFO] __main__: Initiating add_photos step...\n",
      "2020-09-21 18:03:36,595 [INFO] __main__: Photos added to project.\n",
      "2020-09-21 18:03:36,598 [WARNING] __main__: Masks are currently a semi-unsupported feature, use with caution...\n",
      "2020-09-21 18:03:37,202 [INFO] __main__: Applied mask to camera <Camera 'IMAGE02520'>\n",
      "2020-09-21 18:03:57,383 [INFO] __main__: Applied mask to camera <Camera 'IMAGE02617'>\n",
      "2020-09-21 18:03:57,385 [INFO] __main__: Successfully relabeled cameras.\n",
      "2020-09-21 18:03:57,589 [INFO] __main__: Finalised adding photos.\n",
      "2020-09-21 18:03:57,590 [INFO] __main__: Aligning photos...\n",
      "2020-09-21 18:03:57,592 [INFO] __main__: Photo-alignment tasks added to network batch list.\n",
      "2020-09-21 18:03:57,593 [INFO] __main__: Adding ground control points.\n",
      "2020-09-21 18:03:57,886 [INFO] __main__: Ground control points added.\n",
      "2020-09-21 18:03:57,888 [INFO] __main__: Optimising camera alignment...\n",
      "2020-09-21 18:03:57,889 [INFO] __main__: GCP-only optimisation enabled.\n",
      "2020-09-21 18:03:57,891 [INFO] __main__: Alignment-optimisation task added to network batch list.\n",
      "2020-09-21 18:03:57,892 [INFO] __main__: Generating depth maps and dense cloud...\n",
      "2020-09-21 18:03:57,894 [INFO] __main__: Depth map and dense cloud tasks added to network batch list.\n",
      "2020-09-21 18:03:57,895 [INFO] __main__: Constructing a mesh...\n",
      "2020-09-21 18:03:57,897 [INFO] __main__: Mesh-building task added to network batch list.\n",
      "2020-09-21 18:03:57,898 [INFO] __main__: Generating UV maps and textures...\n",
      "2020-09-21 18:03:57,899 [INFO] __main__: UV mapping task added to network batch list.\n",
      "2020-09-21 18:03:57,900 [INFO] __main__: Texture generation task added to network batch list.\n",
      "2020-09-21 18:03:57,901 [INFO] __main__: A processing report will be exported to \\\\gis\\Processing\\Anna\\EK06\\metashape\\EK06_20200921T1803_report.pdf.\n",
      "2020-09-21 18:03:58,106 [INFO] __main__: Project file has been submitted to the pc cluster for processing...\n",
      "2020-09-21 18:03:58,112 [INFO] __main__: Run completed.\n",
      "2020-09-21 18:03:58,136 [INFO] __main__: \n",
      "### Start of configuration file ###\n",
      "addGCPs:\n",
      "  enabled: true\n",
      "  gcp_crs: EPSG::32633\n",
      "  marker_location_accuracy: 0.1\n",
      "  marker_projection_accuracy: 8\n",
      "  optimize_w_gcps_only: true\n",
      "alignPhotos:\n",
      "  adaptive_fitting: true\n",
      "  downscale: 4\n",
      "  enabled: true\n",
      "  mask_tiepoints: true\n",
      "buildDenseCloud:\n",
      "  cell_size: 50.0\n",
      "  classes: ALL\n",
      "  classify: false\n",
      "  downscale: 4\n",
      "  enabled: true\n",
      "  export: false\n",
      "  filter_mode: Metashape.MildFiltering\n",
      "  format: Metashape.PointsFormatLAS\n",
      "  keep_depth: false\n",
      "  max_angle: 15.0\n",
      "  max_distance: 1.0\n",
      "  max_neighbors: 100\n",
      "  reuse_depth: false\n",
      "buildMesh:\n",
      "  enabled: true\n",
      "  face_count: Metashape.LowFaceCount\n",
      "  face_count_custom: 100000\n",
      "  source_data: Metashape.DenseCloudData\n",
      "  surface_type: Metashape.Arbitrary\n",
      "  volumetric_masks: false\n",
      "buildTexture:\n",
      "  blending_mode: Metashape.MosaicBlending\n",
      "  enabled: true\n",
      "  mapping_mode: Metashape.GenericMapping\n",
      "  texture_size: 8192\n",
      "calibrateReflectance:\n",
      "  enabled: false\n",
      "  panel_filename: RP04-1923118-OB.csv\n",
      "  use_reflectance_panels: true\n",
      "  use_sun_sensor: true\n",
      "detectGCPs:\n",
      "  aruco_dict: aruco.DICT_6X6_250\n",
      "  corner: topright\n",
      "  enabled: true\n",
      "  template:\n",
      "    enabled: true\n",
      "    template_file_path: ../markers/markers_circle.png\n",
      "    template_size: 0.2\n",
      "extractObject:\n",
      "  enabled: false\n",
      "  extraction_method: None\n",
      "load_project: ''\n",
      "masks:\n",
      "  enabled: true\n",
      "  mask_path: \\\\gis\\Processing\\Anna\\EK06\\100MEDIA\n",
      "  mask_source: Metashape.MaskSourceFile\n",
      "multispectral: false\n",
      "networkProcessing:\n",
      "  enabled: true\n",
      "  server_ip: gis\n",
      "optimizeCameras:\n",
      "  adaptive_fitting: true\n",
      "  enabled: true\n",
      "output_path: \\\\gis\\Processing\\Anna\\EK06\\metashape\n",
      "photo_path: \\\\gis\\Processing\\Anna\\EK06\n",
      "project_crs: EPSG::32633\n",
      "project_path: \\\\gis\\Processing\\Anna\\EK06\\metashape\n",
      "run_name: EK06\n",
      "subdivide_task: true\n",
      "### End of configuration file ###\n"
     ]
    }
   ],
   "source": [
    "%run ../python/metashape_workflow_class.py \"../config/close-range_photogrammetry-EK02.yml\""
   ]
  },
  {
   "cell_type": "code",
   "execution_count": null,
   "metadata": {},
   "outputs": [],
   "source": []
  },
  {
   "cell_type": "code",
   "execution_count": 1,
   "metadata": {},
   "outputs": [],
   "source": [
    "import Metashape"
   ]
  },
  {
   "cell_type": "code",
   "execution_count": 2,
   "metadata": {},
   "outputs": [
    {
     "data": {
      "text/plain": [
       "1.6.4"
      ]
     },
     "execution_count": 2,
     "metadata": {},
     "output_type": "execute_result"
    }
   ],
   "source": [
    "Metashape.version"
   ]
  },
  {
   "cell_type": "code",
   "execution_count": null,
   "metadata": {},
   "outputs": [],
   "source": []
  }
 ],
 "metadata": {
  "kernelspec": {
   "display_name": "Python 3",
   "language": "python",
   "name": "python3"
  },
  "language_info": {
   "codemirror_mode": {
    "name": "ipython",
    "version": 3
   },
   "file_extension": ".py",
   "mimetype": "text/x-python",
   "name": "python",
   "nbconvert_exporter": "python",
   "pygments_lexer": "ipython3",
   "version": "3.7.8"
  }
 },
 "nbformat": 4,
 "nbformat_minor": 4
}

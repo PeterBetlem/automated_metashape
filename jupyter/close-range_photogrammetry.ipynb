{
 "cells": [
  {
   "cell_type": "markdown",
   "metadata": {},
   "source": [
    "# Automated (close-range) photogrammetry workflow\n",
    "The following workflow consists of the following steps:\n",
    "- Identify markers (if present) on the images, and store pixel and real world coordinates in the correct folder\n",
    "- Extract the object; this requires the very first image to be of the \"empty\" lightbox\n",
    "- Run the full metashape workflow, and generate a textured mesh."
   ]
  },
  {
   "cell_type": "code",
   "execution_count": 1,
   "metadata": {},
   "outputs": [
    {
     "name": "stdout",
     "output_type": "stream",
     "text": [
      "Implementing real world positions from 2D template file.\n",
      "Exported real world marker coordinates to \\\\gis\\Processing\\Anna\\EK05\\gcps\\prepared folder.\n",
      "Accessing and analysing photos @ \\\\gis\\Processing\\Anna\\EK05\n",
      "Found 100 images for processing.\n",
      "Starting multiprocessing...\n",
      "Finalised multiprocessing...\n",
      "Exported pixel coordinates to \\\\gis\\Processing\\Anna\\EK05\\gcps\\prepared folder.\n"
     ]
    }
   ],
   "source": [
    "%run ../python/identify_markers.py \"../config/config_with_networking-Copy1.yml\""
   ]
  },
  {
   "cell_type": "code",
   "execution_count": 2,
   "metadata": {},
   "outputs": [],
   "source": [
    "#%run ../python/background_removal.py \"../config/close-range_photogrammetry-EK02.yml\""
   ]
  },
  {
   "cell_type": "code",
   "execution_count": 1,
   "metadata": {},
   "outputs": [
    {
     "name": "stderr",
     "output_type": "stream",
     "text": [
      "2020-11-28 13:33:37,638 [INFO] __main__: --------------\n",
      "2020-11-28 13:33:37,640 [INFO] __main__: Continued run initiated.\n",
      "2020-11-28 13:33:37,641 [INFO] __main__: Runtime id: KonusdalenWestFault_20201128T1333\n",
      "2020-11-28 13:33:37,641 [INFO] __main__: --------------\n",
      "2020-11-28 13:33:37,641 [INFO] __main__: Agisoft Metashape Professional Version: 1.6.4.\n",
      "2020-11-28 13:33:37,642 [INFO] __main__: Python package version: 2020-nov-20b.\n",
      "\n",
      "2020-11-28 13:33:37,643 [WARNING] __main__: Failed to import/operate pymsteams.\n",
      "2020-11-28 13:33:37,846 [INFO] __main__: Loaded existing project D:\\Metashape\\Deltaneset\\metashape\\KonusdalenWestFault_20201120T1326.psx\n",
      "2020-11-28 13:42:09,681 [INFO] __main__: Saved project as D:\\Metashape\\Deltaneset\\metashape\\KonusdalenWestFault_20201128T1333.psx\n",
      "\n",
      "### Start of input file configuration for startup-stage ###\n",
      "load_project_path: D:\\Metashape\\Deltaneset\\metashape\\KonusdalenWestFault_20201120T1326.psx\n",
      "output_path: D:\\Metashape\\Deltaneset\\metashape\n",
      "photo_path: D:\\Metashape\\Deltaneset\n",
      "project_crs: EPSG::32633\n",
      "project_path: D:\\Metashape\\Deltaneset\\metashape\n",
      "run_name: KonusdalenWestFault\n",
      "subdivide_task: true\n",
      "### End of input file configuration for startup-stage ###\n",
      "\n",
      "2020-11-28 13:42:09,682 [INFO] __main__: Generating DEM...\n",
      "2020-11-28 13:54:12,113 [INFO] __main__: DEM constructed.\n",
      "2020-11-28 13:56:57,108 [INFO] __main__: A processing report has been exported to D:\\Metashape\\Deltaneset\\metashape\\KonusdalenWestFault_20201128T1333_report.pdf.\n",
      "2020-11-28 13:56:57,424 [INFO] __main__: --------------\n",
      "2020-11-28 13:56:57,425 [INFO] __main__: Run completed.\n",
      "2020-11-28 13:56:57,425 [INFO] __main__: --------------\n",
      "\n",
      "2020-11-28 13:56:57,427 [WARNING] __main__: Failed to import/operate pymsteams.\n"
     ]
    }
   ],
   "source": [
    "%run ../python/metashape_workflow_class.py \"../config/close-range_photogrammetry.yml\""
   ]
  },
  {
   "cell_type": "code",
   "execution_count": null,
   "metadata": {},
   "outputs": [],
   "source": []
  },
  {
   "cell_type": "code",
   "execution_count": 1,
   "metadata": {},
   "outputs": [],
   "source": [
    "import Metashape"
   ]
  },
  {
   "cell_type": "code",
   "execution_count": 2,
   "metadata": {},
   "outputs": [
    {
     "data": {
      "text/plain": [
       "1.6.4"
      ]
     },
     "execution_count": 2,
     "metadata": {},
     "output_type": "execute_result"
    }
   ],
   "source": [
    "Metashape.version"
   ]
  },
  {
   "cell_type": "code",
   "execution_count": null,
   "metadata": {},
   "outputs": [],
   "source": []
  }
 ],
 "metadata": {
  "kernelspec": {
   "display_name": "Python 3",
   "language": "python",
   "name": "python3"
  },
  "language_info": {
   "codemirror_mode": {
    "name": "ipython",
    "version": 3
   },
   "file_extension": ".py",
   "mimetype": "text/x-python",
   "name": "python",
   "nbconvert_exporter": "python",
   "pygments_lexer": "ipython3",
   "version": "3.7.9"
  }
 },
 "nbformat": 4,
 "nbformat_minor": 4
}

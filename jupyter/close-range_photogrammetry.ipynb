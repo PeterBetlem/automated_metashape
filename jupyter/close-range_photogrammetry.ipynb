{
 "cells": [
  {
   "cell_type": "markdown",
   "metadata": {},
   "source": [
    "# Automated (close-range) photogrammetry workflow\n",
    "The following workflow consists of the following steps:\n",
    "- Identify markers (if present) on the images, and store pixel and real world coordinates in the correct folder\n",
    "- Extract the object; this requires the very first image to be of the \"empty\" lightbox\n",
    "- Run the full metashape workflow, and generate a textured mesh."
   ]
  },
  {
   "cell_type": "code",
   "execution_count": 1,
   "metadata": {},
   "outputs": [
    {
     "name": "stdout",
     "output_type": "stream",
     "text": [
      "Implementing real world positions from 2D template file.\n",
      "Exported real world marker coordinates to \\\\gis\\Processing\\Anna\\EK05\\gcps\\prepared folder.\n",
      "Accessing and analysing photos @ \\\\gis\\Processing\\Anna\\EK05\n",
      "Found 100 images for processing.\n",
      "Starting multiprocessing...\n",
      "Finalised multiprocessing...\n",
      "Exported pixel coordinates to \\\\gis\\Processing\\Anna\\EK05\\gcps\\prepared folder.\n"
     ]
    }
   ],
   "source": [
    "%run ../python/identify_markers.py \"../config/config_with_networking-Copy1.yml\""
   ]
  },
  {
   "cell_type": "code",
   "execution_count": 2,
   "metadata": {},
   "outputs": [],
   "source": [
    "#%run ../python/background_removal.py \"../config/close-range_photogrammetry-EK02.yml\""
   ]
  },
  {
   "cell_type": "code",
   "execution_count": 1,
   "metadata": {},
   "outputs": [
    {
     "name": "stderr",
     "output_type": "stream",
     "text": [
      "2020-09-27 13:47:10,711 [INFO] __main__: Initiated logging for Project: EK05_20200927T1347.\n",
      "2020-09-27 13:47:10,782 [INFO] __main__: Agisoft Metashape Professional Version: 1.6.4.\n",
      "2020-09-27 13:47:10,853 [INFO] __main__: \n",
      "2020-09-27 13:47:10,923 [INFO] __main__: Creating new project \n",
      "2020-09-27 13:47:17,039 [INFO] __main__: Saved project as \\\\gis\\Processing\\Anna\\EK05\\metashape\\EK05_20200927T1347.psx\n",
      "2020-09-27 13:47:17,307 [INFO] __main__: Connected to network @ gis running Metashape version 1.6.4.10928.\n",
      "2020-09-27 13:47:17,382 [INFO] __main__: Network mode activated.\n",
      "2020-09-27 13:47:17,491 [INFO] __main__: Initiating add_photos step...\n",
      "2020-09-27 13:49:01,883 [INFO] __main__: Photos added to project.\n",
      "2020-09-27 13:49:01,954 [WARNING] __main__: Masks are currently a semi-unsupported feature, use with caution...\n",
      "2020-09-27 13:49:03,043 [INFO] __main__: Applied mask to camera <Camera 'IMAGE02373'>\n",
      "2020-09-27 13:49:06,146 [INFO] __main__: Applied mask to camera <Camera 'IMAGE02382'>\n",
      "2020-09-27 13:49:07,832 [INFO] __main__: Applied mask to camera <Camera 'IMAGE02383'>\n",
      "2020-09-27 13:49:26,334 [INFO] __main__: Applied mask to camera <Camera 'IMAGE02470'>\n",
      "2020-09-27 13:49:26,408 [INFO] __main__: Successfully relabeled cameras.\n",
      "2020-09-27 13:49:30,173 [INFO] __main__: Finalised adding photos.\n",
      "2020-09-27 13:49:30,243 [INFO] __main__: Aligning photos...\n",
      "2020-09-27 13:49:30,312 [INFO] __main__: Photo-alignment tasks added to network batch list.\n",
      "2020-09-27 13:49:30,383 [INFO] __main__: Adding ground control points.\n",
      "2020-09-27 13:49:32,188 [INFO] __main__: Ground control points added.\n",
      "2020-09-27 13:49:32,257 [INFO] __main__: Optimising camera alignment...\n",
      "2020-09-27 13:49:32,328 [INFO] __main__: GCP-only optimisation enabled.\n",
      "2020-09-27 13:49:32,401 [INFO] __main__: Alignment-optimisation task added to network batch list.\n",
      "2020-09-27 13:49:32,471 [INFO] __main__: Generating depth maps and dense cloud...\n",
      "2020-09-27 13:49:32,541 [INFO] __main__: Depth map and dense cloud tasks added to network batch list.\n",
      "2020-09-27 13:49:32,611 [WARNING] __main__: Point confidence for dense clouds currently not supported through the networking interface. Try running it locally.\n",
      "2020-09-27 13:49:32,683 [INFO] __main__: Ground point classification task added to network batch list.\n",
      "2020-09-27 13:49:32,752 [INFO] __main__: Constructing a mesh...\n",
      "2020-09-27 13:49:32,824 [INFO] __main__: Mesh-building task added to network batch list.\n",
      "2020-09-27 13:49:32,894 [INFO] __main__: Generating UV maps and textures...\n",
      "2020-09-27 13:49:32,993 [INFO] __main__: UV mapping task added to network batch list.\n",
      "2020-09-27 13:49:33,063 [INFO] __main__: Texture generation task added to network batch list.\n",
      "2020-09-27 13:49:33,139 [INFO] __main__: A processing report will be exported to \\\\gis\\Processing\\Anna\\EK05\\metashape\\EK05_20200927T1347_report.pdf.\n",
      "2020-09-27 13:49:34,161 [INFO] __main__: Project file has been submitted to the pc cluster for processing...\n",
      "2020-09-27 13:49:35,305 [INFO] __main__: Run completed.\n",
      "2020-09-27 13:49:35,387 [INFO] __main__: \n",
      "### Start of configuration file ###\n",
      "addGCPs:\n",
      "  enabled: true\n",
      "  gcp_crs: EPSG::32633\n",
      "  marker_location_accuracy: 0.1\n",
      "  marker_projection_accuracy: 8\n",
      "  optimize_w_gcps_only: true\n",
      "alignPhotos:\n",
      "  adaptive_fitting: true\n",
      "  downscale: 0\n",
      "  enabled: true\n",
      "  mask_tiepoints: true\n",
      "buildDenseCloud:\n",
      "  cell_size: 50.0\n",
      "  classes: ALL\n",
      "  classify: true\n",
      "  downscale: 1\n",
      "  enabled: true\n",
      "  export: false\n",
      "  filter_mode: Metashape.MildFiltering\n",
      "  format: Metashape.PointsFormatLAS\n",
      "  keep_depth: true\n",
      "  max_angle: 15.0\n",
      "  max_distance: 1.0\n",
      "  max_neighbors: 100\n",
      "  point_confidence: true\n",
      "  point_confidence_max: 10\n",
      "  reuse_depth: false\n",
      "buildMesh:\n",
      "  enabled: true\n",
      "  face_count: Metashape.CustomFaceCount\n",
      "  face_count_custom: 200000\n",
      "  source_data: Metashape.DenseCloudData\n",
      "  surface_type: Metashape.Arbitrary\n",
      "  vertex_confidence: true\n",
      "  volumetric_masks: false\n",
      "buildTexture:\n",
      "  blending_mode: Metashape.MosaicBlending\n",
      "  enabled: true\n",
      "  mapping_mode: Metashape.GenericMapping\n",
      "  texture_size: 8192\n",
      "calibrateReflectance:\n",
      "  enabled: false\n",
      "  panel_filename: RP04-1923118-OB.csv\n",
      "  use_reflectance_panels: true\n",
      "  use_sun_sensor: true\n",
      "detectGCPs:\n",
      "  aruco_dict: aruco.DICT_6X6_250\n",
      "  corner: topright\n",
      "  enabled: true\n",
      "  template:\n",
      "    enabled: true\n",
      "    template_file_path: ../markers/markers_circle.png\n",
      "    template_size: 0.2\n",
      "extractObject:\n",
      "  enabled: false\n",
      "  extraction_method: None\n",
      "load_project: ''\n",
      "masks:\n",
      "  enabled: true\n",
      "  mask_path: \\\\gis\\Processing\\Anna\\EK05\\100MEDIA\n",
      "  mask_source: Metashape.MaskSourceFile\n",
      "multispectral: false\n",
      "networkProcessing:\n",
      "  enabled: true\n",
      "  server_ip: gis\n",
      "optimizeCameras:\n",
      "  adaptive_fitting: true\n",
      "  enabled: true\n",
      "output_path: \\\\gis\\Processing\\Anna\\EK05\\metashape\n",
      "photo_path: \\\\gis\\Processing\\Anna\\EK05\n",
      "project_crs: EPSG::32633\n",
      "project_path: \\\\gis\\Processing\\Anna\\EK05\\metashape\n",
      "run_name: EK05\n",
      "subdivide_task: true\n",
      "### End of configuration file ###\n"
     ]
    }
   ],
   "source": [
    "%run ../python/metashape_workflow_class.py \"../config/config_with_networking-Copy1.yml\""
   ]
  },
  {
   "cell_type": "code",
   "execution_count": null,
   "metadata": {},
   "outputs": [],
   "source": []
  },
  {
   "cell_type": "code",
   "execution_count": 1,
   "metadata": {},
   "outputs": [],
   "source": [
    "import Metashape"
   ]
  },
  {
   "cell_type": "code",
   "execution_count": 2,
   "metadata": {},
   "outputs": [
    {
     "data": {
      "text/plain": [
       "1.6.4"
      ]
     },
     "execution_count": 2,
     "metadata": {},
     "output_type": "execute_result"
    }
   ],
   "source": [
    "Metashape.version"
   ]
  },
  {
   "cell_type": "code",
   "execution_count": null,
   "metadata": {},
   "outputs": [],
   "source": []
  }
 ],
 "metadata": {
  "kernelspec": {
   "display_name": "Python 3",
   "language": "python",
   "name": "python3"
  },
  "language_info": {
   "codemirror_mode": {
    "name": "ipython",
    "version": 3
   },
   "file_extension": ".py",
   "mimetype": "text/x-python",
   "name": "python",
   "nbconvert_exporter": "python",
   "pygments_lexer": "ipython3",
   "version": "3.7.7"
  }
 },
 "nbformat": 4,
 "nbformat_minor": 4
}

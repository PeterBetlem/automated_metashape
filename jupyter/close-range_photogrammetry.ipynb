{
 "cells": [
  {
   "cell_type": "markdown",
   "metadata": {},
   "source": [
    "# Automated (close-range) photogrammetry workflow\n",
    "The following workflow consists of the following steps:\n",
    "- Identify markers (if present) on the images, and store pixel and real world coordinates in the correct folder\n",
    "- Extract the object; this requires the very first image to be of the \"empty\" lightbox\n",
    "- Run the full metashape workflow, and generate a textured mesh."
   ]
  },
  {
   "cell_type": "code",
   "execution_count": 1,
   "metadata": {},
   "outputs": [
    {
     "name": "stdout",
     "output_type": "stream",
     "text": [
      "Implementing real world positions from 2D template file.\n",
      "Exported real world marker coordinates to C:\\Users\\Peter\\OneDrive\\Bilder\\test\\gcps\\prepared folder.\n",
      "Accessing and analysing photos @ C:\\Users\\Peter\\OneDrive\\Bilder\\test\n",
      "Found 109 images for processing.\n",
      "Starting multiprocessing...\n",
      "Finalised multiprocessing...\n",
      "Exported pixel coordinates to C:\\Users\\Peter\\OneDrive\\Bilder\\test\\gcps\\prepared folder.\n"
     ]
    }
   ],
   "source": [
    "%run ../python/identify_markers.py \"../config/close-range_photogrammetry.yml\""
   ]
  },
  {
   "cell_type": "code",
   "execution_count": 2,
   "metadata": {},
   "outputs": [
    {
     "name": "stdout",
     "output_type": "stream",
     "text": [
      "!Please be advised that the code (currently) only works for a single dir. of images!\n"
     ]
    }
   ],
   "source": [
    "%run ../python/background_removal.py \"../config/close-range_photogrammetry.yml\""
   ]
  },
  {
   "cell_type": "code",
   "execution_count": 2,
   "metadata": {},
   "outputs": [
    {
     "name": "stderr",
     "output_type": "stream",
     "text": [
      "2020-08-25 14:47:04,510 [INFO] __main__: Initiated logging for Project: test_name_run001_20200825T1447.\n",
      "2020-08-25 14:47:04,512 [INFO] __main__: Agisoft Metashape Professional Version: 1.6.2.\n",
      "2020-08-25 14:47:04,513 [INFO] __main__: \n",
      "2020-08-25 14:47:04,513 [INFO] __main__: Creating new project \n",
      "2020-08-25 14:47:04,918 [INFO] __main__: Saved project as C:\\Users\\Peter\\OneDrive\\Bilder\\test\\metashape\\test_name_run001_20200825T1447.psx\n",
      "2020-08-25 14:47:04,919 [INFO] __main__: Initiating add_photos step...\n",
      "2020-08-25 14:47:05,125 [INFO] __main__: Photos added to project.\n",
      "2020-08-25 14:47:05,127 [INFO] __main__: Successfully relabeled cameras.\n",
      "2020-08-25 14:47:05,331 [INFO] __main__: Finalised adding photos.\n",
      "2020-08-25 14:47:05,331 [INFO] __main__: Aligning photos...\n",
      "2020-08-25 14:48:36,464 [INFO] __main__: Photos matched.\n",
      "2020-08-25 14:49:14,529 [INFO] __main__: Cameras aligned.\n",
      "2020-08-25 14:49:14,529 [INFO] __main__: Adding ground control points.\n",
      "2020-08-25 14:49:14,843 [INFO] __main__: Ground control points added.\n",
      "2020-08-25 14:49:14,844 [INFO] __main__: Optimising camera alignment...\n",
      "2020-08-25 14:49:14,844 [INFO] __main__: GCP-only optimisation enabled.\n",
      "2020-08-25 14:49:17,022 [INFO] __main__: Optimised camera alignment.\n",
      "2020-08-25 14:49:17,022 [INFO] __main__: Generating depth maps and dense cloud...\n",
      "2020-08-25 14:53:24,622 [INFO] __main__: Depth maps built.\n",
      "2020-08-25 14:58:36,186 [INFO] __main__: Dense cloud built.\n",
      "2020-08-25 14:58:36,187 [INFO] __main__: Constructing a mesh...\n",
      "2020-08-25 14:59:49,943 [INFO] __main__: Mesh has been constructed.\n",
      "2020-08-25 14:59:49,944 [INFO] __main__: Generating UV maps and textures...\n",
      "2020-08-25 15:00:04,355 [INFO] __main__: UV map constructed.\n",
      "2020-08-25 15:01:16,677 [INFO] __main__: Textures constructed.\n",
      "2020-08-25 15:01:19,753 [INFO] __main__: A processing report has been exported to C:\\Users\\Peter\\OneDrive\\Bilder\\test\\metashape\\test_name_run001_20200825T1447_report.pdf.\n",
      "2020-08-25 15:01:19,754 [INFO] __main__: Run completed.\n",
      "2020-08-25 15:01:19,783 [INFO] __main__: \n",
      "### Start of configuration file ###\n",
      "addGCPs:\n",
      "  enabled: true\n",
      "  gcp_crs: EPSG::32633\n",
      "  marker_location_accuracy: 0.1\n",
      "  marker_projection_accuracy: 8\n",
      "  optimize_w_gcps_only: true\n",
      "alignPhotos:\n",
      "  adaptive_fitting: true\n",
      "  downscale: 1\n",
      "  enabled: true\n",
      "buildDenseCloud:\n",
      "  cell_size: 50.0\n",
      "  classes: ALL\n",
      "  classify: false\n",
      "  downscale: 4\n",
      "  enabled: true\n",
      "  export: false\n",
      "  filter_mode: Metashape.MildFiltering\n",
      "  format: Metashape.PointsFormatLAS\n",
      "  keep_depth: false\n",
      "  max_angle: 15.0\n",
      "  max_distance: 1.0\n",
      "  max_neighbors: 100\n",
      "  reuse_depth: false\n",
      "buildMesh:\n",
      "  enabled: true\n",
      "  face_count: Metashape.LowFaceCount\n",
      "  face_count_custom: 100000\n",
      "  source_data: Metashape.DenseCloudData\n",
      "  surface_type: Metashape.Arbitrary\n",
      "  volumetric_masks: false\n",
      "buildTexture:\n",
      "  blending_mode: Metashape.MosaicBlending\n",
      "  enabled: true\n",
      "  mapping_mode: Metashape.GenericMapping\n",
      "  texture_size: 8192\n",
      "calibrateReflectance:\n",
      "  enabled: false\n",
      "  panel_filename: RP04-1923118-OB.csv\n",
      "  use_reflectance_panels: true\n",
      "  use_sun_sensor: true\n",
      "detectGCPs:\n",
      "  aruco_dict: aruco.DICT_6X6_250\n",
      "  corner: centre\n",
      "  enabled: true\n",
      "  template:\n",
      "    enabled: true\n",
      "    template_file_path: ../markers/markers_circle.png\n",
      "    template_size: 0.2\n",
      "extractObject:\n",
      "  enabled: true\n",
      "  extraction_method: None\n",
      "load_project: ''\n",
      "multispectral: false\n",
      "networkProcessing:\n",
      "  enabled: false\n",
      "  server_ip: 1.1.1.1\n",
      "optimizeCameras:\n",
      "  adaptive_fitting: true\n",
      "  enabled: true\n",
      "output_path: C:\\Users\\Peter\\OneDrive\\Bilder\\test\\metashape\n",
      "photo_path: C:\\Users\\Peter\\OneDrive\\Bilder\\test\n",
      "project_crs: EPSG::32633\n",
      "project_path: C:\\Users\\Peter\\OneDrive\\Bilder\\test\\metashape\n",
      "run_name: test_name_run001\n",
      "subdivide_task: true\n",
      "### End of configuration file ###\n"
     ]
    }
   ],
   "source": [
    "%run ../python/metashape_workflow_class.py \"../config/close-range_photogrammetry.yml\""
   ]
  },
  {
   "cell_type": "code",
   "execution_count": null,
   "metadata": {},
   "outputs": [],
   "source": []
  }
 ],
 "metadata": {
  "kernelspec": {
   "display_name": "Python 3",
   "language": "python",
   "name": "python3"
  },
  "language_info": {
   "codemirror_mode": {
    "name": "ipython",
    "version": 3
   },
   "file_extension": ".py",
   "mimetype": "text/x-python",
   "name": "python",
   "nbconvert_exporter": "python",
   "pygments_lexer": "ipython3",
   "version": "3.7.7"
  }
 },
 "nbformat": 4,
 "nbformat_minor": 4
}
